{
 "cells": [
  {
   "cell_type": "markdown",
   "metadata": {
    "deletable": true,
    "editable": true
   },
   "source": [
    "# TV Script Generation\n",
    "In this project, you'll generate your own [Simpsons](https://en.wikipedia.org/wiki/The_Simpsons) TV scripts using RNNs.  You'll be using part of the [Simpsons dataset](https://www.kaggle.com/wcukierski/the-simpsons-by-the-data) of scripts from 27 seasons.  The Neural Network you'll build will generate a new TV script for a scene at [Moe's Tavern](https://simpsonswiki.com/wiki/Moe's_Tavern).\n",
    "## Get the Data\n",
    "The data is already provided for you.  You'll be using a subset of the original dataset.  It consists of only the scenes in Moe's Tavern.  This doesn't include other versions of the tavern, like \"Moe's Cavern\", \"Flaming Moe's\", \"Uncle Moe's Family Feed-Bag\", etc.."
   ]
  },
  {
   "cell_type": "code",
   "execution_count": 324,
   "metadata": {
    "collapsed": false,
    "deletable": true,
    "editable": true
   },
   "outputs": [],
   "source": [
    "\"\"\"\n",
    "DON'T MODIFY ANYTHING IN THIS CELL\n",
    "\"\"\"\n",
    "import helper\n",
    "\n",
    "data_dir = './data/simpsons/moes_tavern_lines.txt'\n",
    "text = helper.load_data(data_dir)\n",
    "# Ignore notice, since we don't use it for analysing the data\n",
    "text = text[81:]"
   ]
  },
  {
   "cell_type": "markdown",
   "metadata": {
    "deletable": true,
    "editable": true
   },
   "source": [
    "## Explore the Data\n",
    "Play around with `view_sentence_range` to view different parts of the data."
   ]
  },
  {
   "cell_type": "code",
   "execution_count": 325,
   "metadata": {
    "collapsed": false,
    "deletable": true,
    "editable": true
   },
   "outputs": [
    {
     "name": "stdout",
     "output_type": "stream",
     "text": [
      "Dataset Stats\n",
      "Roughly the number of unique words: 11492\n",
      "Number of scenes: 262\n",
      "Average number of sentences in each scene: 15.251908396946565\n",
      "Number of lines: 4258\n",
      "Average number of words in each line: 11.50164396430249\n",
      "\n",
      "The sentences 0 to 10:\n",
      "\n",
      "Moe_Szyslak: (INTO PHONE) Moe's Tavern. Where the elite meet to drink.\n",
      "Bart_Simpson: Eh, yeah, hello, is Mike there? Last name, Rotch.\n",
      "Moe_Szyslak: (INTO PHONE) Hold on, I'll check. (TO BARFLIES) Mike Rotch. Mike Rotch. Hey, has anybody seen Mike Rotch, lately?\n",
      "Moe_Szyslak: (INTO PHONE) Listen you little puke. One of these days I'm gonna catch you, and I'm gonna carve my name on your back with an ice pick.\n",
      "Moe_Szyslak: What's the matter Homer? You're not your normal effervescent self.\n",
      "Homer_Simpson: I got my problems, Moe. Give me another one.\n",
      "Moe_Szyslak: Homer, hey, you should not drink to forget your problems.\n",
      "Barney_Gumble: Yeah, you should only drink to enhance your social skills.\n",
      "\n"
     ]
    }
   ],
   "source": [
    "view_sentence_range = (0, 10)\n",
    "\n",
    "\"\"\"\n",
    "DON'T MODIFY ANYTHING IN THIS CELL\n",
    "\"\"\"\n",
    "import numpy as np\n",
    "\n",
    "print('Dataset Stats')\n",
    "print('Roughly the number of unique words: {}'.format(len({word: None for word in text.split()})))\n",
    "scenes = text.split('\\n\\n')\n",
    "print('Number of scenes: {}'.format(len(scenes)))\n",
    "sentence_count_scene = [scene.count('\\n') for scene in scenes]\n",
    "print('Average number of sentences in each scene: {}'.format(np.average(sentence_count_scene)))\n",
    "\n",
    "sentences = [sentence for scene in scenes for sentence in scene.split('\\n')]\n",
    "print('Number of lines: {}'.format(len(sentences)))\n",
    "word_count_sentence = [len(sentence.split()) for sentence in sentences]\n",
    "print('Average number of words in each line: {}'.format(np.average(word_count_sentence)))\n",
    "\n",
    "print()\n",
    "print('The sentences {} to {}:'.format(*view_sentence_range))\n",
    "print('\\n'.join(text.split('\\n')[view_sentence_range[0]:view_sentence_range[1]]))"
   ]
  },
  {
   "cell_type": "markdown",
   "metadata": {
    "deletable": true,
    "editable": true
   },
   "source": [
    "## Implement Preprocessing Functions\n",
    "The first thing to do to any dataset is preprocessing.  Implement the following preprocessing functions below:\n",
    "- Lookup Table\n",
    "- Tokenize Punctuation\n",
    "\n",
    "### Lookup Table\n",
    "To create a word embedding, you first need to transform the words to ids.  In this function, create two dictionaries:\n",
    "- Dictionary to go from the words to an id, we'll call `vocab_to_int`\n",
    "- Dictionary to go from the id to word, we'll call `int_to_vocab`\n",
    "\n",
    "Return these dictionaries in the following tuple `(vocab_to_int, int_to_vocab)`"
   ]
  },
  {
   "cell_type": "code",
   "execution_count": 326,
   "metadata": {
    "collapsed": false,
    "deletable": true,
    "editable": true
   },
   "outputs": [
    {
     "name": "stdout",
     "output_type": "stream",
     "text": [
      "Tests Passed\n"
     ]
    }
   ],
   "source": [
    "import numpy as np\n",
    "import problem_unittests as tests\n",
    "from collections import Counter\n",
    "\n",
    "def create_lookup_tables(text):\n",
    "    unique_words = set(text)\n",
    "    unique_words_list = list(unique_words)\n",
    "    vocab_to_int = {}\n",
    "    int_to_vocab = {}\n",
    "    for i in range(0,len(unique_words_list)):\n",
    "        vocab_to_int[unique_words_list[i]] = i\n",
    "        int_to_vocab[i] = unique_words_list[i]\n",
    "    \"\"\"\n",
    "    Create lookup tables for vocabulary\n",
    "    :param text: The text of tv scripts split into words\n",
    "    :return: A tuple of dicts (vocab_to_int, int_to_vocab)\n",
    "    \"\"\"\n",
    "    # TODO: Implement Function\n",
    "    return (vocab_to_int, int_to_vocab)\n",
    "\n",
    "\n",
    "\"\"\"\n",
    "DON'T MODIFY ANYTHING IN THIS CELL THAT IS BELOW THIS LINE\n",
    "\"\"\"\n",
    "tests.test_create_lookup_tables(create_lookup_tables)"
   ]
  },
  {
   "cell_type": "markdown",
   "metadata": {
    "deletable": true,
    "editable": true
   },
   "source": [
    "### Tokenize Punctuation\n",
    "We'll be splitting the script into a word array using spaces as delimiters.  However, punctuations like periods and exclamation marks make it hard for the neural network to distinguish between the word \"bye\" and \"bye!\".\n",
    "\n",
    "Implement the function `token_lookup` to return a dict that will be used to tokenize symbols like \"!\" into \"||Exclamation_Mark||\".  Create a dictionary for the following symbols where the symbol is the key and value is the token:\n",
    "- Period ( . )\n",
    "- Comma ( , )\n",
    "- Quotation Mark ( \" )\n",
    "- Semicolon ( ; )\n",
    "- Exclamation mark ( ! )\n",
    "- Question mark ( ? )\n",
    "- Left Parentheses ( ( )\n",
    "- Right Parentheses ( ) )\n",
    "- Dash ( -- )\n",
    "- Return ( \\n )\n",
    "\n",
    "This dictionary will be used to token the symbols and add the delimiter (space) around it.  This separates the symbols as it's own word, making it easier for the neural network to predict on the next word. Make sure you don't use a token that could be confused as a word. Instead of using the token \"dash\", try using something like \"||dash||\"."
   ]
  },
  {
   "cell_type": "code",
   "execution_count": 327,
   "metadata": {
    "collapsed": false,
    "deletable": true,
    "editable": true
   },
   "outputs": [
    {
     "name": "stdout",
     "output_type": "stream",
     "text": [
      "Tests Passed\n"
     ]
    }
   ],
   "source": [
    "def token_lookup():\n",
    "    punc = {}\n",
    "    \n",
    "    punc['.'] = \"||Period||\"\n",
    "    punc[','] = \"||Comma||\"\n",
    "    punc['\"'] = \"||Quotation_Mark||\"\n",
    "    punc[';'] = \"||Semicolon||\"\n",
    "    punc['!'] = \"||Exclamation_Mark||\"\n",
    "    punc['?'] = \"||Question_Mark||\"\n",
    "    punc['('] = \"||Left_Parentheses||\"\n",
    "    punc[')'] = \"||Right_Parentheses||\"\n",
    "    punc['--'] = \"||Dash||\"\n",
    "    punc['\\n'] = \"||Return||\"\n",
    "    \n",
    "    \"\"\"\n",
    "    Generate a dict to turn punctuation into a token.\n",
    "    :return: Tokenize dictionary where the key is the punctuation and the value is the token\n",
    "    \"\"\"\n",
    "    # TODO: Implement Function\n",
    "    return punc\n",
    "\n",
    "\"\"\"\n",
    "DON'T MODIFY ANYTHING IN THIS CELL THAT IS BELOW THIS LINE\n",
    "\"\"\"\n",
    "tests.test_tokenize(token_lookup)"
   ]
  },
  {
   "cell_type": "markdown",
   "metadata": {
    "deletable": true,
    "editable": true
   },
   "source": [
    "## Preprocess all the data and save it\n",
    "Running the code cell below will preprocess all the data and save it to file."
   ]
  },
  {
   "cell_type": "code",
   "execution_count": 328,
   "metadata": {
    "collapsed": false,
    "deletable": true,
    "editable": true
   },
   "outputs": [],
   "source": [
    "\"\"\"\n",
    "DON'T MODIFY ANYTHING IN THIS CELL\n",
    "\"\"\"\n",
    "# Preprocess Training, Validation, and Testing Data\n",
    "helper.preprocess_and_save_data(data_dir, token_lookup, create_lookup_tables)"
   ]
  },
  {
   "cell_type": "markdown",
   "metadata": {
    "deletable": true,
    "editable": true
   },
   "source": [
    "# Check Point\n",
    "This is your first checkpoint. If you ever decide to come back to this notebook or have to restart the notebook, you can start from here. The preprocessed data has been saved to disk."
   ]
  },
  {
   "cell_type": "code",
   "execution_count": 329,
   "metadata": {
    "collapsed": false,
    "deletable": true,
    "editable": true
   },
   "outputs": [],
   "source": [
    "\"\"\"\n",
    "DON'T MODIFY ANYTHING IN THIS CELL\n",
    "\"\"\"\n",
    "import helper\n",
    "import numpy as np\n",
    "import problem_unittests as tests\n",
    "\n",
    "int_text, vocab_to_int, int_to_vocab, token_dict = helper.load_preprocess()"
   ]
  },
  {
   "cell_type": "markdown",
   "metadata": {
    "deletable": true,
    "editable": true
   },
   "source": [
    "## Build the Neural Network\n",
    "You'll build the components necessary to build a RNN by implementing the following functions below:\n",
    "- get_inputs\n",
    "- get_init_cell\n",
    "- get_embed\n",
    "- build_rnn\n",
    "- build_nn\n",
    "- get_batches\n",
    "\n",
    "### Check the Version of TensorFlow and Access to GPU"
   ]
  },
  {
   "cell_type": "code",
   "execution_count": 330,
   "metadata": {
    "collapsed": false,
    "deletable": true,
    "editable": true
   },
   "outputs": [
    {
     "name": "stdout",
     "output_type": "stream",
     "text": [
      "TensorFlow Version: 1.0.0\n"
     ]
    },
    {
     "name": "stderr",
     "output_type": "stream",
     "text": [
      "C:\\Users\\usshajoe\\AppData\\Local\\Continuum\\Anaconda3\\envs\\carnd-term1\\lib\\site-packages\\ipykernel\\__main__.py:14: UserWarning: No GPU found. Please use a GPU to train your neural network.\n"
     ]
    }
   ],
   "source": [
    "\"\"\"\n",
    "DON'T MODIFY ANYTHING IN THIS CELL\n",
    "\"\"\"\n",
    "from distutils.version import LooseVersion\n",
    "import warnings\n",
    "import tensorflow as tf\n",
    "\n",
    "# Check TensorFlow Version\n",
    "assert LooseVersion(tf.__version__) >= LooseVersion('1.0'), 'Please use TensorFlow version 1.0 or newer'\n",
    "print('TensorFlow Version: {}'.format(tf.__version__))\n",
    "\n",
    "# Check for a GPU\n",
    "if not tf.test.gpu_device_name():\n",
    "    warnings.warn('No GPU found. Please use a GPU to train your neural network.')\n",
    "else:\n",
    "    print('Default GPU Device: {}'.format(tf.test.gpu_device_name()))"
   ]
  },
  {
   "cell_type": "markdown",
   "metadata": {
    "deletable": true,
    "editable": true
   },
   "source": [
    "### Input\n",
    "Implement the `get_inputs()` function to create TF Placeholders for the Neural Network.  It should create the following placeholders:\n",
    "- Input text placeholder named \"input\" using the [TF Placeholder](https://www.tensorflow.org/api_docs/python/tf/placeholder) `name` parameter.\n",
    "- Targets placeholder\n",
    "- Learning Rate placeholder\n",
    "\n",
    "Return the placeholders in the following the tuple `(Input, Targets, LearingRate)`"
   ]
  },
  {
   "cell_type": "code",
   "execution_count": 331,
   "metadata": {
    "collapsed": false,
    "deletable": true,
    "editable": true
   },
   "outputs": [
    {
     "name": "stdout",
     "output_type": "stream",
     "text": [
      "Tests Passed\n"
     ]
    }
   ],
   "source": [
    "def get_inputs():\n",
    "    \"\"\"\n",
    "    Create TF Placeholders for input, targets, and learning rate.\n",
    "    :return: Tuple (input, targets, learning rate)\n",
    "    \"\"\"\n",
    "    inputs = tf.placeholder(tf.int32, (None,None), name='input')\n",
    "    targets = tf.placeholder(tf.int32,(None,None), name='target')\n",
    "    learning_rate = tf.placeholder(tf.float32, name='lr')\n",
    "    \n",
    "    # TODO: Implement Function\n",
    "    return (inputs, targets, learning_rate)\n",
    "\n",
    "\n",
    "\"\"\"\n",
    "DON'T MODIFY ANYTHING IN THIS CELL THAT IS BELOW THIS LINE\n",
    "\"\"\"\n",
    "tests.test_get_inputs(get_inputs)"
   ]
  },
  {
   "cell_type": "markdown",
   "metadata": {
    "deletable": true,
    "editable": true
   },
   "source": [
    "### Build RNN Cell and Initialize\n",
    "Stack one or more [`BasicLSTMCells`](https://www.tensorflow.org/api_docs/python/tf/contrib/rnn/BasicLSTMCell) in a [`MultiRNNCell`](https://www.tensorflow.org/api_docs/python/tf/contrib/rnn/MultiRNNCell).\n",
    "- The Rnn size should be set using `rnn_size`\n",
    "- Initalize Cell State using the MultiRNNCell's [`zero_state()`](https://www.tensorflow.org/api_docs/python/tf/contrib/rnn/MultiRNNCell#zero_state) function\n",
    "    - Apply the name \"initial_state\" to the initial state using [`tf.identity()`](https://www.tensorflow.org/api_docs/python/tf/identity)\n",
    "\n",
    "Return the cell and initial state in the following tuple `(Cell, InitialState)`"
   ]
  },
  {
   "cell_type": "code",
   "execution_count": 332,
   "metadata": {
    "collapsed": false,
    "deletable": true,
    "editable": true
   },
   "outputs": [
    {
     "name": "stdout",
     "output_type": "stream",
     "text": [
      "Tests Passed\n"
     ]
    }
   ],
   "source": [
    "def get_init_cell(batch_size, rnn_size):\n",
    "    \"\"\"\n",
    "    Create an RNN Cell and initialize it.\n",
    "    :param batch_size: Size of batches\n",
    "    :param rnn_size: Size of RNNs\n",
    "    :return: Tuple (cell, initialize state)\n",
    "    \"\"\"\n",
    "    # TODO: Implement Function\n",
    "    \n",
    "    lstm = tf.contrib.rnn.BasicLSTMCell(rnn_size)\n",
    "    \n",
    "    #drop = tf.contrib.rnn.DropoutWrapper(lstm)\n",
    "    \n",
    "    cell = tf.contrib.rnn.MultiRNNCell([lstm] * 2)\n",
    "    \n",
    "    initial_state = cell.zero_state(batch_size, tf.float32)   \n",
    "    \n",
    "    return (cell, tf.identity(initial_state,name='initial_state'))\n",
    "\n",
    "\n",
    "\"\"\"\n",
    "DON'T MODIFY ANYTHING IN THIS CELL THAT IS BELOW THIS LINE\n",
    "\"\"\"\n",
    "tests.test_get_init_cell(get_init_cell)"
   ]
  },
  {
   "cell_type": "markdown",
   "metadata": {
    "deletable": true,
    "editable": true
   },
   "source": [
    "### Word Embedding\n",
    "Apply embedding to `input_data` using TensorFlow.  Return the embedded sequence."
   ]
  },
  {
   "cell_type": "code",
   "execution_count": 333,
   "metadata": {
    "collapsed": false,
    "deletable": true,
    "editable": true
   },
   "outputs": [
    {
     "name": "stdout",
     "output_type": "stream",
     "text": [
      "Tests Passed\n"
     ]
    }
   ],
   "source": [
    "def get_embed(input_data, vocab_size, embed_dim):\n",
    "    \"\"\"\n",
    "    Create embedding for <input_data>.\n",
    "    :param input_data: TF placeholder for text input.\n",
    "    :param vocab_size: Number of words in vocabulary.\n",
    "    :param embed_dim: Number of embedding dimensions\n",
    "    :return: Embedded input.\n",
    "    \"\"\"\n",
    "    # TODO: Implement Function\n",
    "\n",
    "    embed_weights = tf.Variable(tf.random_uniform((vocab_size, embed_dim),-1,1))\n",
    "    embed = tf.nn.embedding_lookup(embed_weights, input_data)\n",
    "    \n",
    "    return embed\n",
    "\n",
    "\n",
    "\"\"\"\n",
    "DON'T MODIFY ANYTHING IN THIS CELL THAT IS BELOW THIS LINE\n",
    "\"\"\"\n",
    "tests.test_get_embed(get_embed)"
   ]
  },
  {
   "cell_type": "markdown",
   "metadata": {
    "deletable": true,
    "editable": true
   },
   "source": [
    "### Build RNN\n",
    "You created a RNN Cell in the `get_init_cell()` function.  Time to use the cell to create a RNN.\n",
    "- Build the RNN using the [`tf.nn.dynamic_rnn()`](https://www.tensorflow.org/api_docs/python/tf/nn/dynamic_rnn)\n",
    " - Apply the name \"final_state\" to the final state using [`tf.identity()`](https://www.tensorflow.org/api_docs/python/tf/identity)\n",
    "\n",
    "Return the outputs and final_state state in the following tuple `(Outputs, FinalState)` "
   ]
  },
  {
   "cell_type": "code",
   "execution_count": 334,
   "metadata": {
    "collapsed": false,
    "deletable": true,
    "editable": true
   },
   "outputs": [
    {
     "name": "stdout",
     "output_type": "stream",
     "text": [
      "Tests Passed\n"
     ]
    }
   ],
   "source": [
    "def build_rnn(cell, inputs):\n",
    "    \"\"\"\n",
    "    Create a RNN using a RNN Cell\n",
    "    :param cell: RNN Cell\n",
    "    :param inputs: Input text data\n",
    "    :return: Tuple (Outputs, Final State)\n",
    "    \"\"\"\n",
    "    # TODO: Implement Function\n",
    "    \n",
    "    outputs, final_state = tf.nn.dynamic_rnn(cell, inputs,dtype=tf.float32)\n",
    "    final_state = tf.identity(final_state,name='final_state')\n",
    "    \n",
    "    return outputs,final_state\n",
    "\n",
    "\n",
    "\"\"\"\n",
    "DON'T MODIFY ANYTHING IN THIS CELL THAT IS BELOW THIS LINE\n",
    "\"\"\"\n",
    "tests.test_build_rnn(build_rnn)"
   ]
  },
  {
   "cell_type": "markdown",
   "metadata": {
    "deletable": true,
    "editable": true
   },
   "source": [
    "### Build the Neural Network\n",
    "Apply the functions you implemented above to:\n",
    "- Apply embedding to `input_data` using your `get_embed(input_data, vocab_size, embed_dim)` function.\n",
    "- Build RNN using `cell` and your `build_rnn(cell, inputs)` function.\n",
    "- Apply a fully connected layer with a linear activation and `vocab_size` as the number of outputs.\n",
    "\n",
    "Return the logits and final state in the following tuple (Logits, FinalState) "
   ]
  },
  {
   "cell_type": "code",
   "execution_count": 335,
   "metadata": {
    "collapsed": false,
    "deletable": true,
    "editable": true
   },
   "outputs": [
    {
     "name": "stdout",
     "output_type": "stream",
     "text": [
      "Tests Passed\n"
     ]
    }
   ],
   "source": [
    "def build_nn(cell, rnn_size, input_data, vocab_size):\n",
    "    \"\"\"\n",
    "    Build part of the neural network\n",
    "    :param cell: RNN cell\n",
    "    :param rnn_size: Size of rnns\n",
    "    :param input_data: Input data\n",
    "    :param vocab_size: Vocabulary size\n",
    "    :return: Tuple (Logits, FinalState)\n",
    "    \"\"\"\n",
    "    # TODO: Implement Function\n",
    "    embed_layer = get_embed(input_data, vocab_size, rnn_size)\n",
    "    output,final_state = build_rnn(cell, embed_layer)\n",
    "    logits = tf.contrib.layers.fully_connected(output,vocab_size,activation_fn=None, weights_initializer=tf.contrib.layers.xavier_initializer())\n",
    "    return (logits, final_state)\n",
    "\n",
    "\n",
    "\"\"\"\n",
    "DON'T MODIFY ANYTHING IN THIS CELL THAT IS BELOW THIS LINE\n",
    "\"\"\"\n",
    "tests.test_build_nn(build_nn)"
   ]
  },
  {
   "cell_type": "markdown",
   "metadata": {
    "deletable": true,
    "editable": true
   },
   "source": [
    "### Batches\n",
    "Implement `get_batches` to create batches of input and targets using `int_text`.  The batches should be a Numpy array with the shape `(number of batches, 2, batch size, sequence length)`. Each batch contains two elements:\n",
    "- The first element is a single batch of **input** with the shape `[batch size, sequence length]`\n",
    "- The second element is a single batch of **targets** with the shape `[batch size, sequence length]`\n",
    "\n",
    "If you can't fill the last batch with enough data, drop the last batch.\n",
    "\n",
    "For exmple, `get_batches([1, 2, 3, 4, 5, 6, 7, 8, 9, 10, 11, 12, 13, 14, 15], 2, 3)` would return a Numpy array of the following:\n",
    "```\n",
    "[\n",
    "  # First Batch\n",
    "  [\n",
    "    # Batch of Input\n",
    "    [[ 1  2  3], [ 7  8  9]],\n",
    "    # Batch of targets\n",
    "    [[ 2  3  4], [ 8  9 10]]\n",
    "  ],\n",
    " \n",
    "  # Second Batch\n",
    "  [\n",
    "    # Batch of Input\n",
    "    [[ 4  5  6], [10 11 12]],\n",
    "    # Batch of targets\n",
    "    [[ 5  6  7], [11 12 13]]\n",
    "  ]\n",
    "]\n",
    "```"
   ]
  },
  {
   "cell_type": "code",
   "execution_count": 336,
   "metadata": {
    "collapsed": false,
    "deletable": true,
    "editable": true
   },
   "outputs": [
    {
     "name": "stdout",
     "output_type": "stream",
     "text": [
      "Tests Passed\n"
     ]
    }
   ],
   "source": [
    "def get_batches(int_text, batch_size, seq_length):\n",
    "    \"\"\"\n",
    "    Return batches of input and target\n",
    "    :param int_text: Text with the words replaced by their ids\n",
    "    :param batch_size: The size of batch\n",
    "    :param seq_length: The length of sequence\n",
    "    :return: Batches as a Numpy array\n",
    "    \"\"\"\n",
    "    # TODO: Implement Function\n",
    "    \n",
    "    #print(batch_size)\n",
    "    #print(seq_length)\n",
    "    \n",
    "    input_batches = list()\n",
    "    target_batches = list()\n",
    "    #input batches\n",
    "    \n",
    "    valid_length = int((len(int_text)-1)/seq_length) * seq_length + 1\n",
    "    \n",
    "    #print(len(int_text))\n",
    "    #print(valid_length)\n",
    "    \n",
    "    valid_text = int_text[:valid_length]\n",
    "    \n",
    "    for i in range(0, int(len(valid_text)/seq_length)):\n",
    "        begin = i*seq_length\n",
    "        end = begin+seq_length\n",
    "        input_batches.append(valid_text[begin:end])\n",
    "        target_batches.append(valid_text[begin+1:end+1])\n",
    "\n",
    "    num_batches = int(len(input_batches)/batch_size)\n",
    "    #print(num_batches)\n",
    "    \n",
    "    batches = list()\n",
    "    \n",
    "    for i in range(0,num_batches):\n",
    "        begin = i*batch_size\n",
    "        end = begin+batch_size\n",
    "        \n",
    "        batch = [input_batches[begin:end], target_batches[begin:end]]\n",
    "        batches.append(batch)\n",
    "        \n",
    "    #print(batches[0])\n",
    "    return np.asarray(batches)\n",
    "\n",
    "\"\"\"\n",
    "DON'T MODIFY ANYTHING IN THIS CELL THAT IS BELOW THIS LINE\n",
    "\"\"\"\n",
    "tests.test_get_batches(get_batches)"
   ]
  },
  {
   "cell_type": "markdown",
   "metadata": {
    "deletable": true,
    "editable": true
   },
   "source": [
    "## Neural Network Training\n",
    "### Hyperparameters\n",
    "Tune the following parameters:\n",
    "\n",
    "- Set `num_epochs` to the number of epochs.\n",
    "- Set `batch_size` to the batch size.\n",
    "- Set `rnn_size` to the size of the RNNs.\n",
    "- Set `seq_length` to the length of sequence.\n",
    "- Set `learning_rate` to the learning rate.\n",
    "- Set `show_every_n_batches` to the number of batches the neural network should print progress."
   ]
  },
  {
   "cell_type": "code",
   "execution_count": 345,
   "metadata": {
    "collapsed": true,
    "deletable": true,
    "editable": true
   },
   "outputs": [],
   "source": [
    "# Number of Epochs\n",
    "num_epochs = 250\n",
    "# Batch Size\n",
    "batch_size = 256\n",
    "# RNN Size\n",
    "rnn_size = 256\n",
    "# Sequence Length\n",
    "seq_length = 11\n",
    "# Learning Rate\n",
    "learning_rate = 0.001\n",
    "# Show stats for every n number of batches\n",
    "show_every_n_batches = 10\n",
    "\n",
    "\"\"\"\n",
    "DON'T MODIFY ANYTHING IN THIS CELL THAT IS BELOW THIS LINE\n",
    "\"\"\"\n",
    "save_dir = './save'"
   ]
  },
  {
   "cell_type": "markdown",
   "metadata": {
    "deletable": true,
    "editable": true
   },
   "source": [
    "### Build the Graph\n",
    "Build the graph using the neural network you implemented."
   ]
  },
  {
   "cell_type": "code",
   "execution_count": 346,
   "metadata": {
    "collapsed": false,
    "deletable": true,
    "editable": true
   },
   "outputs": [],
   "source": [
    "\"\"\"\n",
    "DON'T MODIFY ANYTHING IN THIS CELL\n",
    "\"\"\"\n",
    "from tensorflow.contrib import seq2seq\n",
    "\n",
    "train_graph = tf.Graph()\n",
    "with train_graph.as_default():\n",
    "    vocab_size = len(int_to_vocab)\n",
    "    input_text, targets, lr = get_inputs()\n",
    "    input_data_shape = tf.shape(input_text)\n",
    "    cell, initial_state = get_init_cell(input_data_shape[0], rnn_size)\n",
    "    logits, final_state = build_nn(cell, rnn_size, input_text, vocab_size)\n",
    "\n",
    "    # Probabilities for generating words\n",
    "    probs = tf.nn.softmax(logits, name='probs')\n",
    "\n",
    "    # Loss function\n",
    "    cost = seq2seq.sequence_loss(\n",
    "        logits,\n",
    "        targets,\n",
    "        tf.ones([input_data_shape[0], input_data_shape[1]]))\n",
    "\n",
    "    # Optimizer\n",
    "    optimizer = tf.train.AdamOptimizer(lr)\n",
    "\n",
    "    # Gradient Clipping\n",
    "    gradients = optimizer.compute_gradients(cost)\n",
    "    capped_gradients = [(tf.clip_by_value(grad, -1., 1.), var) for grad, var in gradients]\n",
    "    train_op = optimizer.apply_gradients(capped_gradients)"
   ]
  },
  {
   "cell_type": "markdown",
   "metadata": {
    "deletable": true,
    "editable": true
   },
   "source": [
    "## Train\n",
    "Train the neural network on the preprocessed data.  If you have a hard time getting a good loss, check the [forms](https://discussions.udacity.com/) to see if anyone is having the same problem."
   ]
  },
  {
   "cell_type": "code",
   "execution_count": 347,
   "metadata": {
    "collapsed": false,
    "deletable": true,
    "editable": true
   },
   "outputs": [
    {
     "name": "stdout",
     "output_type": "stream",
     "text": [
      "Epoch   0 Batch    0/24   train_loss = 8.822\n",
      "Epoch   0 Batch   10/24   train_loss = 7.498\n",
      "Epoch   0 Batch   20/24   train_loss = 6.571\n",
      "Epoch   1 Batch    6/24   train_loss = 6.293\n",
      "Epoch   1 Batch   16/24   train_loss = 6.156\n",
      "Epoch   2 Batch    2/24   train_loss = 5.971\n",
      "Epoch   2 Batch   12/24   train_loss = 6.165\n",
      "Epoch   2 Batch   22/24   train_loss = 6.166\n",
      "Epoch   3 Batch    8/24   train_loss = 5.886\n",
      "Epoch   3 Batch   18/24   train_loss = 6.202\n",
      "Epoch   4 Batch    4/24   train_loss = 6.021\n",
      "Epoch   4 Batch   14/24   train_loss = 6.074\n",
      "Epoch   5 Batch    0/24   train_loss = 5.961\n",
      "Epoch   5 Batch   10/24   train_loss = 5.973\n",
      "Epoch   5 Batch   20/24   train_loss = 6.153\n",
      "Epoch   6 Batch    6/24   train_loss = 5.972\n",
      "Epoch   6 Batch   16/24   train_loss = 6.026\n",
      "Epoch   7 Batch    2/24   train_loss = 5.799\n",
      "Epoch   7 Batch   12/24   train_loss = 6.059\n",
      "Epoch   7 Batch   22/24   train_loss = 6.068\n",
      "Epoch   8 Batch    8/24   train_loss = 5.801\n",
      "Epoch   8 Batch   18/24   train_loss = 6.124\n",
      "Epoch   9 Batch    4/24   train_loss = 5.940\n",
      "Epoch   9 Batch   14/24   train_loss = 6.009\n",
      "Epoch  10 Batch    0/24   train_loss = 5.887\n",
      "Epoch  10 Batch   10/24   train_loss = 5.900\n",
      "Epoch  10 Batch   20/24   train_loss = 6.087\n",
      "Epoch  11 Batch    6/24   train_loss = 5.891\n",
      "Epoch  11 Batch   16/24   train_loss = 5.946\n",
      "Epoch  12 Batch    2/24   train_loss = 5.710\n",
      "Epoch  12 Batch   12/24   train_loss = 5.963\n",
      "Epoch  12 Batch   22/24   train_loss = 5.951\n",
      "Epoch  13 Batch    8/24   train_loss = 5.694\n",
      "Epoch  13 Batch   18/24   train_loss = 6.012\n",
      "Epoch  14 Batch    4/24   train_loss = 5.806\n",
      "Epoch  14 Batch   14/24   train_loss = 5.864\n",
      "Epoch  15 Batch    0/24   train_loss = 5.744\n",
      "Epoch  15 Batch   10/24   train_loss = 5.748\n",
      "Epoch  15 Batch   20/24   train_loss = 5.951\n",
      "Epoch  16 Batch    6/24   train_loss = 5.748\n",
      "Epoch  16 Batch   16/24   train_loss = 5.798\n",
      "Epoch  17 Batch    2/24   train_loss = 5.563\n",
      "Epoch  17 Batch   12/24   train_loss = 5.814\n",
      "Epoch  17 Batch   22/24   train_loss = 5.799\n",
      "Epoch  18 Batch    8/24   train_loss = 5.534\n",
      "Epoch  18 Batch   18/24   train_loss = 5.865\n",
      "Epoch  19 Batch    4/24   train_loss = 5.636\n",
      "Epoch  19 Batch   14/24   train_loss = 5.696\n",
      "Epoch  20 Batch    0/24   train_loss = 5.563\n",
      "Epoch  20 Batch   10/24   train_loss = 5.566\n",
      "Epoch  20 Batch   20/24   train_loss = 5.794\n",
      "Epoch  21 Batch    6/24   train_loss = 5.576\n",
      "Epoch  21 Batch   16/24   train_loss = 5.629\n",
      "Epoch  22 Batch    2/24   train_loss = 5.379\n",
      "Epoch  22 Batch   12/24   train_loss = 5.635\n",
      "Epoch  22 Batch   22/24   train_loss = 5.618\n",
      "Epoch  23 Batch    8/24   train_loss = 5.352\n",
      "Epoch  23 Batch   18/24   train_loss = 5.690\n",
      "Epoch  24 Batch    4/24   train_loss = 5.441\n",
      "Epoch  24 Batch   14/24   train_loss = 5.492\n",
      "Epoch  25 Batch    0/24   train_loss = 5.365\n",
      "Epoch  25 Batch   10/24   train_loss = 5.346\n",
      "Epoch  25 Batch   20/24   train_loss = 5.585\n",
      "Epoch  26 Batch    6/24   train_loss = 5.331\n",
      "Epoch  26 Batch   16/24   train_loss = 5.383\n",
      "Epoch  27 Batch    2/24   train_loss = 5.131\n",
      "Epoch  27 Batch   12/24   train_loss = 5.367\n",
      "Epoch  27 Batch   22/24   train_loss = 5.326\n",
      "Epoch  28 Batch    8/24   train_loss = 5.054\n",
      "Epoch  28 Batch   18/24   train_loss = 5.394\n",
      "Epoch  29 Batch    4/24   train_loss = 5.114\n",
      "Epoch  29 Batch   14/24   train_loss = 5.188\n",
      "Epoch  30 Batch    0/24   train_loss = 5.049\n",
      "Epoch  30 Batch   10/24   train_loss = 5.016\n",
      "Epoch  30 Batch   20/24   train_loss = 5.278\n",
      "Epoch  31 Batch    6/24   train_loss = 4.997\n",
      "Epoch  31 Batch   16/24   train_loss = 5.070\n",
      "Epoch  32 Batch    2/24   train_loss = 4.820\n",
      "Epoch  32 Batch   12/24   train_loss = 5.069\n",
      "Epoch  32 Batch   22/24   train_loss = 5.021\n",
      "Epoch  33 Batch    8/24   train_loss = 4.750\n",
      "Epoch  33 Batch   18/24   train_loss = 5.104\n",
      "Epoch  34 Batch    4/24   train_loss = 4.814\n",
      "Epoch  34 Batch   14/24   train_loss = 4.894\n",
      "Epoch  35 Batch    0/24   train_loss = 4.765\n",
      "Epoch  35 Batch   10/24   train_loss = 4.723\n",
      "Epoch  35 Batch   20/24   train_loss = 4.992\n",
      "Epoch  36 Batch    6/24   train_loss = 4.697\n",
      "Epoch  36 Batch   16/24   train_loss = 4.781\n",
      "Epoch  37 Batch    2/24   train_loss = 4.546\n",
      "Epoch  37 Batch   12/24   train_loss = 4.777\n",
      "Epoch  37 Batch   22/24   train_loss = 4.739\n",
      "Epoch  38 Batch    8/24   train_loss = 4.503\n",
      "Epoch  38 Batch   18/24   train_loss = 4.826\n",
      "Epoch  39 Batch    4/24   train_loss = 4.559\n",
      "Epoch  39 Batch   14/24   train_loss = 4.647\n",
      "Epoch  40 Batch    0/24   train_loss = 4.534\n",
      "Epoch  40 Batch   10/24   train_loss = 4.506\n",
      "Epoch  40 Batch   20/24   train_loss = 4.767\n",
      "Epoch  41 Batch    6/24   train_loss = 4.466\n",
      "Epoch  41 Batch   16/24   train_loss = 4.593\n",
      "Epoch  42 Batch    2/24   train_loss = 4.347\n",
      "Epoch  42 Batch   12/24   train_loss = 4.609\n",
      "Epoch  42 Batch   22/24   train_loss = 4.522\n",
      "Epoch  43 Batch    8/24   train_loss = 4.384\n",
      "Epoch  43 Batch   18/24   train_loss = 4.625\n",
      "Epoch  44 Batch    4/24   train_loss = 4.355\n",
      "Epoch  44 Batch   14/24   train_loss = 4.438\n",
      "Epoch  45 Batch    0/24   train_loss = 4.332\n",
      "Epoch  45 Batch   10/24   train_loss = 4.295\n",
      "Epoch  45 Batch   20/24   train_loss = 4.517\n",
      "Epoch  46 Batch    6/24   train_loss = 4.271\n",
      "Epoch  46 Batch   16/24   train_loss = 4.388\n",
      "Epoch  47 Batch    2/24   train_loss = 4.161\n",
      "Epoch  47 Batch   12/24   train_loss = 4.369\n",
      "Epoch  47 Batch   22/24   train_loss = 4.309\n",
      "Epoch  48 Batch    8/24   train_loss = 4.136\n",
      "Epoch  48 Batch   18/24   train_loss = 4.423\n",
      "Epoch  49 Batch    4/24   train_loss = 4.156\n",
      "Epoch  49 Batch   14/24   train_loss = 4.258\n",
      "Epoch  50 Batch    0/24   train_loss = 4.147\n",
      "Epoch  50 Batch   10/24   train_loss = 4.125\n",
      "Epoch  50 Batch   20/24   train_loss = 4.317\n",
      "Epoch  51 Batch    6/24   train_loss = 4.122\n",
      "Epoch  51 Batch   16/24   train_loss = 4.190\n",
      "Epoch  52 Batch    2/24   train_loss = 4.006\n",
      "Epoch  52 Batch   12/24   train_loss = 4.183\n",
      "Epoch  52 Batch   22/24   train_loss = 4.127\n",
      "Epoch  53 Batch    8/24   train_loss = 3.961\n",
      "Epoch  53 Batch   18/24   train_loss = 4.228\n",
      "Epoch  54 Batch    4/24   train_loss = 3.980\n",
      "Epoch  54 Batch   14/24   train_loss = 4.057\n",
      "Epoch  55 Batch    0/24   train_loss = 3.969\n",
      "Epoch  55 Batch   10/24   train_loss = 3.928\n",
      "Epoch  55 Batch   20/24   train_loss = 4.118\n",
      "Epoch  56 Batch    6/24   train_loss = 3.912\n",
      "Epoch  56 Batch   16/24   train_loss = 4.015\n",
      "Epoch  57 Batch    2/24   train_loss = 3.812\n",
      "Epoch  57 Batch   12/24   train_loss = 4.009\n",
      "Epoch  57 Batch   22/24   train_loss = 3.915\n",
      "Epoch  58 Batch    8/24   train_loss = 3.804\n",
      "Epoch  58 Batch   18/24   train_loss = 4.019\n",
      "Epoch  59 Batch    4/24   train_loss = 3.810\n",
      "Epoch  59 Batch   14/24   train_loss = 3.860\n",
      "Epoch  60 Batch    0/24   train_loss = 3.812\n",
      "Epoch  60 Batch   10/24   train_loss = 3.755\n",
      "Epoch  60 Batch   20/24   train_loss = 3.943\n",
      "Epoch  61 Batch    6/24   train_loss = 3.739\n",
      "Epoch  61 Batch   16/24   train_loss = 3.853\n",
      "Epoch  62 Batch    2/24   train_loss = 3.639\n",
      "Epoch  62 Batch   12/24   train_loss = 3.844\n",
      "Epoch  62 Batch   22/24   train_loss = 3.740\n",
      "Epoch  63 Batch    8/24   train_loss = 3.654\n",
      "Epoch  63 Batch   18/24   train_loss = 3.834\n",
      "Epoch  64 Batch    4/24   train_loss = 3.655\n",
      "Epoch  64 Batch   14/24   train_loss = 3.691\n",
      "Epoch  65 Batch    0/24   train_loss = 3.677\n",
      "Epoch  65 Batch   10/24   train_loss = 3.649\n",
      "Epoch  65 Batch   20/24   train_loss = 3.764\n",
      "Epoch  66 Batch    6/24   train_loss = 3.631\n",
      "Epoch  66 Batch   16/24   train_loss = 3.721\n",
      "Epoch  67 Batch    2/24   train_loss = 3.540\n",
      "Epoch  67 Batch   12/24   train_loss = 3.731\n",
      "Epoch  67 Batch   22/24   train_loss = 3.624\n",
      "Epoch  68 Batch    8/24   train_loss = 3.510\n",
      "Epoch  68 Batch   18/24   train_loss = 3.676\n",
      "Epoch  69 Batch    4/24   train_loss = 3.472\n",
      "Epoch  69 Batch   14/24   train_loss = 3.517\n",
      "Epoch  70 Batch    0/24   train_loss = 3.467\n",
      "Epoch  70 Batch   10/24   train_loss = 3.471\n",
      "Epoch  70 Batch   20/24   train_loss = 3.561\n",
      "Epoch  71 Batch    6/24   train_loss = 3.408\n",
      "Epoch  71 Batch   16/24   train_loss = 3.507\n",
      "Epoch  72 Batch    2/24   train_loss = 3.325\n",
      "Epoch  72 Batch   12/24   train_loss = 3.515\n",
      "Epoch  72 Batch   22/24   train_loss = 3.409\n",
      "Epoch  73 Batch    8/24   train_loss = 3.337\n",
      "Epoch  73 Batch   18/24   train_loss = 3.483\n",
      "Epoch  74 Batch    4/24   train_loss = 3.314\n",
      "Epoch  74 Batch   14/24   train_loss = 3.354\n",
      "Epoch  75 Batch    0/24   train_loss = 3.308\n",
      "Epoch  75 Batch   10/24   train_loss = 3.319\n",
      "Epoch  75 Batch   20/24   train_loss = 3.393\n",
      "Epoch  76 Batch    6/24   train_loss = 3.261\n",
      "Epoch  76 Batch   16/24   train_loss = 3.363\n",
      "Epoch  77 Batch    2/24   train_loss = 3.159\n",
      "Epoch  77 Batch   12/24   train_loss = 3.346\n",
      "Epoch  77 Batch   22/24   train_loss = 3.224\n",
      "Epoch  78 Batch    8/24   train_loss = 3.202\n",
      "Epoch  78 Batch   18/24   train_loss = 3.293\n",
      "Epoch  79 Batch    4/24   train_loss = 3.170\n",
      "Epoch  79 Batch   14/24   train_loss = 3.196\n",
      "Epoch  80 Batch    0/24   train_loss = 3.163\n",
      "Epoch  80 Batch   10/24   train_loss = 3.151\n",
      "Epoch  80 Batch   20/24   train_loss = 3.203\n",
      "Epoch  81 Batch    6/24   train_loss = 3.103\n",
      "Epoch  81 Batch   16/24   train_loss = 3.220\n",
      "Epoch  82 Batch    2/24   train_loss = 3.051\n",
      "Epoch  82 Batch   12/24   train_loss = 3.192\n",
      "Epoch  82 Batch   22/24   train_loss = 3.065\n",
      "Epoch  83 Batch    8/24   train_loss = 3.077\n",
      "Epoch  83 Batch   18/24   train_loss = 3.179\n",
      "Epoch  84 Batch    4/24   train_loss = 3.046\n",
      "Epoch  84 Batch   14/24   train_loss = 3.103\n",
      "Epoch  85 Batch    0/24   train_loss = 3.081\n",
      "Epoch  85 Batch   10/24   train_loss = 3.090\n",
      "Epoch  85 Batch   20/24   train_loss = 3.116\n",
      "Epoch  86 Batch    6/24   train_loss = 3.076\n",
      "Epoch  86 Batch   16/24   train_loss = 3.130\n",
      "Epoch  87 Batch    2/24   train_loss = 2.950\n",
      "Epoch  87 Batch   12/24   train_loss = 3.110\n",
      "Epoch  87 Batch   22/24   train_loss = 2.947\n",
      "Epoch  88 Batch    8/24   train_loss = 2.959\n",
      "Epoch  88 Batch   18/24   train_loss = 3.011\n",
      "Epoch  89 Batch    4/24   train_loss = 2.879\n",
      "Epoch  89 Batch   14/24   train_loss = 2.889\n",
      "Epoch  90 Batch    0/24   train_loss = 2.878\n",
      "Epoch  90 Batch   10/24   train_loss = 2.899\n",
      "Epoch  90 Batch   20/24   train_loss = 2.920\n",
      "Epoch  91 Batch    6/24   train_loss = 2.834\n",
      "Epoch  91 Batch   16/24   train_loss = 2.913\n",
      "Epoch  92 Batch    2/24   train_loss = 2.743\n",
      "Epoch  92 Batch   12/24   train_loss = 2.944\n",
      "Epoch  92 Batch   22/24   train_loss = 2.807\n",
      "Epoch  93 Batch    8/24   train_loss = 2.847\n",
      "Epoch  93 Batch   18/24   train_loss = 2.833\n",
      "Epoch  94 Batch    4/24   train_loss = 2.746\n",
      "Epoch  94 Batch   14/24   train_loss = 2.804\n",
      "Epoch  95 Batch    0/24   train_loss = 2.809\n",
      "Epoch  95 Batch   10/24   train_loss = 2.800\n",
      "Epoch  95 Batch   20/24   train_loss = 2.785\n",
      "Epoch  96 Batch    6/24   train_loss = 2.736\n",
      "Epoch  96 Batch   16/24   train_loss = 2.827\n",
      "Epoch  97 Batch    2/24   train_loss = 2.683\n",
      "Epoch  97 Batch   12/24   train_loss = 2.849\n",
      "Epoch  97 Batch   22/24   train_loss = 2.691\n",
      "Epoch  98 Batch    8/24   train_loss = 2.738\n",
      "Epoch  98 Batch   18/24   train_loss = 2.807\n",
      "Epoch  99 Batch    4/24   train_loss = 2.702\n",
      "Epoch  99 Batch   14/24   train_loss = 2.680\n",
      "Epoch 100 Batch    0/24   train_loss = 2.672\n",
      "Epoch 100 Batch   10/24   train_loss = 2.717\n",
      "Epoch 100 Batch   20/24   train_loss = 2.749\n",
      "Epoch 101 Batch    6/24   train_loss = 2.620\n",
      "Epoch 101 Batch   16/24   train_loss = 2.732\n",
      "Epoch 102 Batch    2/24   train_loss = 2.566\n",
      "Epoch 102 Batch   12/24   train_loss = 2.768\n",
      "Epoch 102 Batch   22/24   train_loss = 2.584\n",
      "Epoch 103 Batch    8/24   train_loss = 2.601\n",
      "Epoch 103 Batch   18/24   train_loss = 2.599\n",
      "Epoch 104 Batch    4/24   train_loss = 2.576\n",
      "Epoch 104 Batch   14/24   train_loss = 2.582\n",
      "Epoch 105 Batch    0/24   train_loss = 2.554\n",
      "Epoch 105 Batch   10/24   train_loss = 2.517\n",
      "Epoch 105 Batch   20/24   train_loss = 2.522\n",
      "Epoch 106 Batch    6/24   train_loss = 2.556\n",
      "Epoch 106 Batch   16/24   train_loss = 2.602\n",
      "Epoch 107 Batch    2/24   train_loss = 2.431\n",
      "Epoch 107 Batch   12/24   train_loss = 2.539\n",
      "Epoch 107 Batch   22/24   train_loss = 2.475\n",
      "Epoch 108 Batch    8/24   train_loss = 2.539\n",
      "Epoch 108 Batch   18/24   train_loss = 2.496\n",
      "Epoch 109 Batch    4/24   train_loss = 2.406\n",
      "Epoch 109 Batch   14/24   train_loss = 2.424\n",
      "Epoch 110 Batch    0/24   train_loss = 2.420\n",
      "Epoch 110 Batch   10/24   train_loss = 2.413\n",
      "Epoch 110 Batch   20/24   train_loss = 2.366\n",
      "Epoch 111 Batch    6/24   train_loss = 2.361\n",
      "Epoch 111 Batch   16/24   train_loss = 2.404\n",
      "Epoch 112 Batch    2/24   train_loss = 2.276\n",
      "Epoch 112 Batch   12/24   train_loss = 2.381\n",
      "Epoch 112 Batch   22/24   train_loss = 2.234\n",
      "Epoch 113 Batch    8/24   train_loss = 2.308\n",
      "Epoch 113 Batch   18/24   train_loss = 2.280\n",
      "Epoch 114 Batch    4/24   train_loss = 2.216\n",
      "Epoch 114 Batch   14/24   train_loss = 2.194\n",
      "Epoch 115 Batch    0/24   train_loss = 2.202\n",
      "Epoch 115 Batch   10/24   train_loss = 2.213\n",
      "Epoch 115 Batch   20/24   train_loss = 2.169\n",
      "Epoch 116 Batch    6/24   train_loss = 2.181\n",
      "Epoch 116 Batch   16/24   train_loss = 2.241\n",
      "Epoch 117 Batch    2/24   train_loss = 2.128\n",
      "Epoch 117 Batch   12/24   train_loss = 2.210\n",
      "Epoch 117 Batch   22/24   train_loss = 2.094\n",
      "Epoch 118 Batch    8/24   train_loss = 2.196\n",
      "Epoch 118 Batch   18/24   train_loss = 2.146\n",
      "Epoch 119 Batch    4/24   train_loss = 2.095\n",
      "Epoch 119 Batch   14/24   train_loss = 2.080\n",
      "Epoch 120 Batch    0/24   train_loss = 2.087\n",
      "Epoch 120 Batch   10/24   train_loss = 2.106\n",
      "Epoch 120 Batch   20/24   train_loss = 2.091\n",
      "Epoch 121 Batch    6/24   train_loss = 2.074\n",
      "Epoch 121 Batch   16/24   train_loss = 2.172\n",
      "Epoch 122 Batch    2/24   train_loss = 2.046\n",
      "Epoch 122 Batch   12/24   train_loss = 2.134\n",
      "Epoch 122 Batch   22/24   train_loss = 2.032\n",
      "Epoch 123 Batch    8/24   train_loss = 2.155\n",
      "Epoch 123 Batch   18/24   train_loss = 2.053\n",
      "Epoch 124 Batch    4/24   train_loss = 1.986\n",
      "Epoch 124 Batch   14/24   train_loss = 1.962\n",
      "Epoch 125 Batch    0/24   train_loss = 1.986\n",
      "Epoch 125 Batch   10/24   train_loss = 1.993\n",
      "Epoch 125 Batch   20/24   train_loss = 1.952\n",
      "Epoch 126 Batch    6/24   train_loss = 1.960\n",
      "Epoch 126 Batch   16/24   train_loss = 1.986\n",
      "Epoch 127 Batch    2/24   train_loss = 1.911\n",
      "Epoch 127 Batch   12/24   train_loss = 1.978\n",
      "Epoch 127 Batch   22/24   train_loss = 1.874\n",
      "Epoch 128 Batch    8/24   train_loss = 2.006\n",
      "Epoch 128 Batch   18/24   train_loss = 1.927\n",
      "Epoch 129 Batch    4/24   train_loss = 1.827\n",
      "Epoch 129 Batch   14/24   train_loss = 1.837\n",
      "Epoch 130 Batch    0/24   train_loss = 1.858\n",
      "Epoch 130 Batch   10/24   train_loss = 1.905\n",
      "Epoch 130 Batch   20/24   train_loss = 1.802\n",
      "Epoch 131 Batch    6/24   train_loss = 1.891\n",
      "Epoch 131 Batch   16/24   train_loss = 1.873\n",
      "Epoch 132 Batch    2/24   train_loss = 1.839\n",
      "Epoch 132 Batch   12/24   train_loss = 1.907\n",
      "Epoch 132 Batch   22/24   train_loss = 1.813\n",
      "Epoch 133 Batch    8/24   train_loss = 1.923\n",
      "Epoch 133 Batch   18/24   train_loss = 1.855\n",
      "Epoch 134 Batch    4/24   train_loss = 1.784\n",
      "Epoch 134 Batch   14/24   train_loss = 1.811\n",
      "Epoch 135 Batch    0/24   train_loss = 1.820\n",
      "Epoch 135 Batch   10/24   train_loss = 1.888\n",
      "Epoch 135 Batch   20/24   train_loss = 1.711\n",
      "Epoch 136 Batch    6/24   train_loss = 1.784\n",
      "Epoch 136 Batch   16/24   train_loss = 1.814\n",
      "Epoch 137 Batch    2/24   train_loss = 1.789\n",
      "Epoch 137 Batch   12/24   train_loss = 1.834\n",
      "Epoch 137 Batch   22/24   train_loss = 1.724\n",
      "Epoch 138 Batch    8/24   train_loss = 1.837\n",
      "Epoch 138 Batch   18/24   train_loss = 1.777\n",
      "Epoch 139 Batch    4/24   train_loss = 1.743\n",
      "Epoch 139 Batch   14/24   train_loss = 1.728\n",
      "Epoch 140 Batch    0/24   train_loss = 1.747\n",
      "Epoch 140 Batch   10/24   train_loss = 1.740\n",
      "Epoch 140 Batch   20/24   train_loss = 1.699\n",
      "Epoch 141 Batch    6/24   train_loss = 1.772\n",
      "Epoch 141 Batch   16/24   train_loss = 1.811\n",
      "Epoch 142 Batch    2/24   train_loss = 1.707\n",
      "Epoch 142 Batch   12/24   train_loss = 1.766\n",
      "Epoch 142 Batch   22/24   train_loss = 1.704\n",
      "Epoch 143 Batch    8/24   train_loss = 1.830\n",
      "Epoch 143 Batch   18/24   train_loss = 1.720\n",
      "Epoch 144 Batch    4/24   train_loss = 1.632\n",
      "Epoch 144 Batch   14/24   train_loss = 1.626\n",
      "Epoch 145 Batch    0/24   train_loss = 1.671\n",
      "Epoch 145 Batch   10/24   train_loss = 1.669\n",
      "Epoch 145 Batch   20/24   train_loss = 1.549\n",
      "Epoch 146 Batch    6/24   train_loss = 1.608\n",
      "Epoch 146 Batch   16/24   train_loss = 1.625\n",
      "Epoch 147 Batch    2/24   train_loss = 1.597\n",
      "Epoch 147 Batch   12/24   train_loss = 1.603\n",
      "Epoch 147 Batch   22/24   train_loss = 1.510\n",
      "Epoch 148 Batch    8/24   train_loss = 1.623\n",
      "Epoch 148 Batch   18/24   train_loss = 1.532\n",
      "Epoch 149 Batch    4/24   train_loss = 1.480\n",
      "Epoch 149 Batch   14/24   train_loss = 1.457\n",
      "Epoch 150 Batch    0/24   train_loss = 1.504\n",
      "Epoch 150 Batch   10/24   train_loss = 1.508\n",
      "Epoch 150 Batch   20/24   train_loss = 1.415\n",
      "Epoch 151 Batch    6/24   train_loss = 1.494\n",
      "Epoch 151 Batch   16/24   train_loss = 1.496\n",
      "Epoch 152 Batch    2/24   train_loss = 1.498\n",
      "Epoch 152 Batch   12/24   train_loss = 1.475\n",
      "Epoch 152 Batch   22/24   train_loss = 1.412\n",
      "Epoch 153 Batch    8/24   train_loss = 1.526\n",
      "Epoch 153 Batch   18/24   train_loss = 1.472\n",
      "Epoch 154 Batch    4/24   train_loss = 1.403\n",
      "Epoch 154 Batch   14/24   train_loss = 1.370\n",
      "Epoch 155 Batch    0/24   train_loss = 1.411\n",
      "Epoch 155 Batch   10/24   train_loss = 1.442\n",
      "Epoch 155 Batch   20/24   train_loss = 1.357\n",
      "Epoch 156 Batch    6/24   train_loss = 1.396\n",
      "Epoch 156 Batch   16/24   train_loss = 1.434\n",
      "Epoch 157 Batch    2/24   train_loss = 1.408\n",
      "Epoch 157 Batch   12/24   train_loss = 1.439\n",
      "Epoch 157 Batch   22/24   train_loss = 1.337\n",
      "Epoch 158 Batch    8/24   train_loss = 1.480\n",
      "Epoch 158 Batch   18/24   train_loss = 1.390\n",
      "Epoch 159 Batch    4/24   train_loss = 1.340\n",
      "Epoch 159 Batch   14/24   train_loss = 1.297\n",
      "Epoch 160 Batch    0/24   train_loss = 1.335\n",
      "Epoch 160 Batch   10/24   train_loss = 1.374\n",
      "Epoch 160 Batch   20/24   train_loss = 1.284\n",
      "Epoch 161 Batch    6/24   train_loss = 1.319\n",
      "Epoch 161 Batch   16/24   train_loss = 1.332\n",
      "Epoch 162 Batch    2/24   train_loss = 1.335\n",
      "Epoch 162 Batch   12/24   train_loss = 1.351\n",
      "Epoch 162 Batch   22/24   train_loss = 1.269\n",
      "Epoch 163 Batch    8/24   train_loss = 1.378\n",
      "Epoch 163 Batch   18/24   train_loss = 1.281\n",
      "Epoch 164 Batch    4/24   train_loss = 1.268\n",
      "Epoch 164 Batch   14/24   train_loss = 1.249\n",
      "Epoch 165 Batch    0/24   train_loss = 1.296\n",
      "Epoch 165 Batch   10/24   train_loss = 1.287\n",
      "Epoch 165 Batch   20/24   train_loss = 1.181\n",
      "Epoch 166 Batch    6/24   train_loss = 1.285\n",
      "Epoch 166 Batch   16/24   train_loss = 1.342\n",
      "Epoch 167 Batch    2/24   train_loss = 1.321\n",
      "Epoch 167 Batch   12/24   train_loss = 1.282\n",
      "Epoch 167 Batch   22/24   train_loss = 1.190\n",
      "Epoch 168 Batch    8/24   train_loss = 1.380\n",
      "Epoch 168 Batch   18/24   train_loss = 1.284\n",
      "Epoch 169 Batch    4/24   train_loss = 1.243\n",
      "Epoch 169 Batch   14/24   train_loss = 1.179\n",
      "Epoch 170 Batch    0/24   train_loss = 1.233\n",
      "Epoch 170 Batch   10/24   train_loss = 1.258\n",
      "Epoch 170 Batch   20/24   train_loss = 1.159\n",
      "Epoch 171 Batch    6/24   train_loss = 1.215\n",
      "Epoch 171 Batch   16/24   train_loss = 1.202\n",
      "Epoch 172 Batch    2/24   train_loss = 1.215\n",
      "Epoch 172 Batch   12/24   train_loss = 1.178\n",
      "Epoch 172 Batch   22/24   train_loss = 1.123\n",
      "Epoch 173 Batch    8/24   train_loss = 1.249\n",
      "Epoch 173 Batch   18/24   train_loss = 1.142\n",
      "Epoch 174 Batch    4/24   train_loss = 1.093\n",
      "Epoch 174 Batch   14/24   train_loss = 1.067\n",
      "Epoch 175 Batch    0/24   train_loss = 1.108\n",
      "Epoch 175 Batch   10/24   train_loss = 1.118\n",
      "Epoch 175 Batch   20/24   train_loss = 1.037\n",
      "Epoch 176 Batch    6/24   train_loss = 1.087\n",
      "Epoch 176 Batch   16/24   train_loss = 1.096\n",
      "Epoch 177 Batch    2/24   train_loss = 1.114\n",
      "Epoch 177 Batch   12/24   train_loss = 1.087\n",
      "Epoch 177 Batch   22/24   train_loss = 1.029\n",
      "Epoch 178 Batch    8/24   train_loss = 1.152\n",
      "Epoch 178 Batch   18/24   train_loss = 1.061\n",
      "Epoch 179 Batch    4/24   train_loss = 1.010\n",
      "Epoch 179 Batch   14/24   train_loss = 0.991\n",
      "Epoch 180 Batch    0/24   train_loss = 1.043\n",
      "Epoch 180 Batch   10/24   train_loss = 1.050\n",
      "Epoch 180 Batch   20/24   train_loss = 0.973\n",
      "Epoch 181 Batch    6/24   train_loss = 1.042\n",
      "Epoch 181 Batch   16/24   train_loss = 1.035\n",
      "Epoch 182 Batch    2/24   train_loss = 1.082\n",
      "Epoch 182 Batch   12/24   train_loss = 1.014\n",
      "Epoch 182 Batch   22/24   train_loss = 0.995\n",
      "Epoch 183 Batch    8/24   train_loss = 1.100\n",
      "Epoch 183 Batch   18/24   train_loss = 1.022\n",
      "Epoch 184 Batch    4/24   train_loss = 0.972\n",
      "Epoch 184 Batch   14/24   train_loss = 0.948\n",
      "Epoch 185 Batch    0/24   train_loss = 1.001\n",
      "Epoch 185 Batch   10/24   train_loss = 1.003\n",
      "Epoch 185 Batch   20/24   train_loss = 0.951\n",
      "Epoch 186 Batch    6/24   train_loss = 0.982\n",
      "Epoch 186 Batch   16/24   train_loss = 0.994\n",
      "Epoch 187 Batch    2/24   train_loss = 1.005\n",
      "Epoch 187 Batch   12/24   train_loss = 0.979\n",
      "Epoch 187 Batch   22/24   train_loss = 0.915\n",
      "Epoch 188 Batch    8/24   train_loss = 1.062\n",
      "Epoch 188 Batch   18/24   train_loss = 0.968\n",
      "Epoch 189 Batch    4/24   train_loss = 0.938\n",
      "Epoch 189 Batch   14/24   train_loss = 0.899\n",
      "Epoch 190 Batch    0/24   train_loss = 0.933\n",
      "Epoch 190 Batch   10/24   train_loss = 0.936\n",
      "Epoch 190 Batch   20/24   train_loss = 0.916\n",
      "Epoch 191 Batch    6/24   train_loss = 0.951\n",
      "Epoch 191 Batch   16/24   train_loss = 0.941\n",
      "Epoch 192 Batch    2/24   train_loss = 0.963\n",
      "Epoch 192 Batch   12/24   train_loss = 0.939\n",
      "Epoch 192 Batch   22/24   train_loss = 0.882\n",
      "Epoch 193 Batch    8/24   train_loss = 1.014\n",
      "Epoch 193 Batch   18/24   train_loss = 0.926\n",
      "Epoch 194 Batch    4/24   train_loss = 0.886\n",
      "Epoch 194 Batch   14/24   train_loss = 0.851\n",
      "Epoch 195 Batch    0/24   train_loss = 0.920\n",
      "Epoch 195 Batch   10/24   train_loss = 0.912\n",
      "Epoch 195 Batch   20/24   train_loss = 0.851\n",
      "Epoch 196 Batch    6/24   train_loss = 0.896\n",
      "Epoch 196 Batch   16/24   train_loss = 0.897\n",
      "Epoch 197 Batch    2/24   train_loss = 0.925\n",
      "Epoch 197 Batch   12/24   train_loss = 0.903\n",
      "Epoch 197 Batch   22/24   train_loss = 0.838\n",
      "Epoch 198 Batch    8/24   train_loss = 0.977\n",
      "Epoch 198 Batch   18/24   train_loss = 0.867\n",
      "Epoch 199 Batch    4/24   train_loss = 0.872\n",
      "Epoch 199 Batch   14/24   train_loss = 0.829\n",
      "Epoch 200 Batch    0/24   train_loss = 0.854\n",
      "Epoch 200 Batch   10/24   train_loss = 0.861\n",
      "Epoch 200 Batch   20/24   train_loss = 0.820\n",
      "Epoch 201 Batch    6/24   train_loss = 0.869\n",
      "Epoch 201 Batch   16/24   train_loss = 0.902\n",
      "Epoch 202 Batch    2/24   train_loss = 0.903\n",
      "Epoch 202 Batch   12/24   train_loss = 0.879\n",
      "Epoch 202 Batch   22/24   train_loss = 0.792\n",
      "Epoch 203 Batch    8/24   train_loss = 0.983\n",
      "Epoch 203 Batch   18/24   train_loss = 0.851\n",
      "Epoch 204 Batch    4/24   train_loss = 0.847\n",
      "Epoch 204 Batch   14/24   train_loss = 0.798\n",
      "Epoch 205 Batch    0/24   train_loss = 0.832\n",
      "Epoch 205 Batch   10/24   train_loss = 0.848\n",
      "Epoch 205 Batch   20/24   train_loss = 0.789\n",
      "Epoch 206 Batch    6/24   train_loss = 0.874\n",
      "Epoch 206 Batch   16/24   train_loss = 0.870\n",
      "Epoch 207 Batch    2/24   train_loss = 0.860\n",
      "Epoch 207 Batch   12/24   train_loss = 0.818\n",
      "Epoch 207 Batch   22/24   train_loss = 0.780\n",
      "Epoch 208 Batch    8/24   train_loss = 0.949\n",
      "Epoch 208 Batch   18/24   train_loss = 0.849\n",
      "Epoch 209 Batch    4/24   train_loss = 0.812\n",
      "Epoch 209 Batch   14/24   train_loss = 0.787\n",
      "Epoch 210 Batch    0/24   train_loss = 0.803\n",
      "Epoch 210 Batch   10/24   train_loss = 0.856\n",
      "Epoch 210 Batch   20/24   train_loss = 0.793\n",
      "Epoch 211 Batch    6/24   train_loss = 0.830\n",
      "Epoch 211 Batch   16/24   train_loss = 0.820\n",
      "Epoch 212 Batch    2/24   train_loss = 0.901\n",
      "Epoch 212 Batch   12/24   train_loss = 0.870\n",
      "Epoch 212 Batch   22/24   train_loss = 0.785\n",
      "Epoch 213 Batch    8/24   train_loss = 0.889\n",
      "Epoch 213 Batch   18/24   train_loss = 0.837\n",
      "Epoch 214 Batch    4/24   train_loss = 0.861\n",
      "Epoch 214 Batch   14/24   train_loss = 0.779\n",
      "Epoch 215 Batch    0/24   train_loss = 0.802\n",
      "Epoch 215 Batch   10/24   train_loss = 0.784\n",
      "Epoch 215 Batch   20/24   train_loss = 0.770\n",
      "Epoch 216 Batch    6/24   train_loss = 0.825\n",
      "Epoch 216 Batch   16/24   train_loss = 0.779\n",
      "Epoch 217 Batch    2/24   train_loss = 0.795\n",
      "Epoch 217 Batch   12/24   train_loss = 0.780\n",
      "Epoch 217 Batch   22/24   train_loss = 0.714\n",
      "Epoch 218 Batch    8/24   train_loss = 0.822\n",
      "Epoch 218 Batch   18/24   train_loss = 0.736\n",
      "Epoch 219 Batch    4/24   train_loss = 0.717\n",
      "Epoch 219 Batch   14/24   train_loss = 0.668\n",
      "Epoch 220 Batch    0/24   train_loss = 0.715\n",
      "Epoch 220 Batch   10/24   train_loss = 0.703\n",
      "Epoch 220 Batch   20/24   train_loss = 0.647\n",
      "Epoch 221 Batch    6/24   train_loss = 0.702\n",
      "Epoch 221 Batch   16/24   train_loss = 0.724\n",
      "Epoch 222 Batch    2/24   train_loss = 0.734\n",
      "Epoch 222 Batch   12/24   train_loss = 0.685\n",
      "Epoch 222 Batch   22/24   train_loss = 0.629\n",
      "Epoch 223 Batch    8/24   train_loss = 0.759\n",
      "Epoch 223 Batch   18/24   train_loss = 0.696\n",
      "Epoch 224 Batch    4/24   train_loss = 0.671\n",
      "Epoch 224 Batch   14/24   train_loss = 0.624\n",
      "Epoch 225 Batch    0/24   train_loss = 0.660\n",
      "Epoch 225 Batch   10/24   train_loss = 0.662\n",
      "Epoch 225 Batch   20/24   train_loss = 0.625\n",
      "Epoch 226 Batch    6/24   train_loss = 0.666\n",
      "Epoch 226 Batch   16/24   train_loss = 0.667\n",
      "Epoch 227 Batch    2/24   train_loss = 0.679\n",
      "Epoch 227 Batch   12/24   train_loss = 0.657\n",
      "Epoch 227 Batch   22/24   train_loss = 0.608\n",
      "Epoch 228 Batch    8/24   train_loss = 0.717\n",
      "Epoch 228 Batch   18/24   train_loss = 0.646\n",
      "Epoch 229 Batch    4/24   train_loss = 0.621\n",
      "Epoch 229 Batch   14/24   train_loss = 0.595\n",
      "Epoch 230 Batch    0/24   train_loss = 0.628\n",
      "Epoch 230 Batch   10/24   train_loss = 0.617\n",
      "Epoch 230 Batch   20/24   train_loss = 0.578\n",
      "Epoch 231 Batch    6/24   train_loss = 0.641\n",
      "Epoch 231 Batch   16/24   train_loss = 0.642\n",
      "Epoch 232 Batch    2/24   train_loss = 0.650\n",
      "Epoch 232 Batch   12/24   train_loss = 0.615\n",
      "Epoch 232 Batch   22/24   train_loss = 0.563\n",
      "Epoch 233 Batch    8/24   train_loss = 0.664\n",
      "Epoch 233 Batch   18/24   train_loss = 0.616\n",
      "Epoch 234 Batch    4/24   train_loss = 0.609\n",
      "Epoch 234 Batch   14/24   train_loss = 0.564\n",
      "Epoch 235 Batch    0/24   train_loss = 0.588\n",
      "Epoch 235 Batch   10/24   train_loss = 0.578\n",
      "Epoch 235 Batch   20/24   train_loss = 0.552\n",
      "Epoch 236 Batch    6/24   train_loss = 0.600\n",
      "Epoch 236 Batch   16/24   train_loss = 0.609\n",
      "Epoch 237 Batch    2/24   train_loss = 0.610\n",
      "Epoch 237 Batch   12/24   train_loss = 0.572\n",
      "Epoch 237 Batch   22/24   train_loss = 0.536\n",
      "Epoch 238 Batch    8/24   train_loss = 0.642\n",
      "Epoch 238 Batch   18/24   train_loss = 0.584\n",
      "Epoch 239 Batch    4/24   train_loss = 0.559\n",
      "Epoch 239 Batch   14/24   train_loss = 0.527\n",
      "Epoch 240 Batch    0/24   train_loss = 0.556\n",
      "Epoch 240 Batch   10/24   train_loss = 0.554\n",
      "Epoch 240 Batch   20/24   train_loss = 0.535\n",
      "Epoch 241 Batch    6/24   train_loss = 0.565\n",
      "Epoch 241 Batch   16/24   train_loss = 0.567\n",
      "Epoch 242 Batch    2/24   train_loss = 0.582\n",
      "Epoch 242 Batch   12/24   train_loss = 0.552\n",
      "Epoch 242 Batch   22/24   train_loss = 0.508\n",
      "Epoch 243 Batch    8/24   train_loss = 0.602\n",
      "Epoch 243 Batch   18/24   train_loss = 0.559\n",
      "Epoch 244 Batch    4/24   train_loss = 0.538\n",
      "Epoch 244 Batch   14/24   train_loss = 0.514\n",
      "Epoch 245 Batch    0/24   train_loss = 0.542\n",
      "Epoch 245 Batch   10/24   train_loss = 0.528\n",
      "Epoch 245 Batch   20/24   train_loss = 0.502\n",
      "Epoch 246 Batch    6/24   train_loss = 0.545\n",
      "Epoch 246 Batch   16/24   train_loss = 0.560\n",
      "Epoch 247 Batch    2/24   train_loss = 0.564\n",
      "Epoch 247 Batch   12/24   train_loss = 0.551\n",
      "Epoch 247 Batch   22/24   train_loss = 0.493\n",
      "Epoch 248 Batch    8/24   train_loss = 0.577\n",
      "Epoch 248 Batch   18/24   train_loss = 0.535\n",
      "Epoch 249 Batch    4/24   train_loss = 0.532\n",
      "Epoch 249 Batch   14/24   train_loss = 0.500\n",
      "Model Trained and Saved\n"
     ]
    }
   ],
   "source": [
    "\"\"\"\n",
    "DON'T MODIFY ANYTHING IN THIS CELL\n",
    "\"\"\"\n",
    "batches = get_batches(int_text, batch_size, seq_length)\n",
    "\n",
    "with tf.Session(graph=train_graph) as sess:\n",
    "    sess.run(tf.global_variables_initializer())\n",
    "\n",
    "    for epoch_i in range(num_epochs):\n",
    "        state = sess.run(initial_state, {input_text: batches[0][0]})\n",
    "\n",
    "        for batch_i, (x, y) in enumerate(batches):\n",
    "            feed = {\n",
    "                input_text: x,\n",
    "                targets: y,\n",
    "                initial_state: state,\n",
    "                lr: learning_rate}\n",
    "            train_loss, state, _ = sess.run([cost, final_state, train_op], feed)\n",
    "\n",
    "            # Show every <show_every_n_batches> batches\n",
    "            if (epoch_i * len(batches) + batch_i) % show_every_n_batches == 0:\n",
    "                print('Epoch {:>3} Batch {:>4}/{}   train_loss = {:.3f}'.format(\n",
    "                    epoch_i,\n",
    "                    batch_i,\n",
    "                    len(batches),\n",
    "                    train_loss))\n",
    "\n",
    "    # Save Model\n",
    "    saver = tf.train.Saver()\n",
    "    saver.save(sess, save_dir)\n",
    "    print('Model Trained and Saved')"
   ]
  },
  {
   "cell_type": "markdown",
   "metadata": {
    "deletable": true,
    "editable": true
   },
   "source": [
    "## Save Parameters\n",
    "Save `seq_length` and `save_dir` for generating a new TV script."
   ]
  },
  {
   "cell_type": "code",
   "execution_count": 348,
   "metadata": {
    "collapsed": false,
    "deletable": true,
    "editable": true
   },
   "outputs": [],
   "source": [
    "\"\"\"\n",
    "DON'T MODIFY ANYTHING IN THIS CELL\n",
    "\"\"\"\n",
    "# Save parameters for checkpoint\n",
    "helper.save_params((seq_length, save_dir))"
   ]
  },
  {
   "cell_type": "markdown",
   "metadata": {
    "deletable": true,
    "editable": true
   },
   "source": [
    "# Checkpoint"
   ]
  },
  {
   "cell_type": "code",
   "execution_count": 349,
   "metadata": {
    "collapsed": false,
    "deletable": true,
    "editable": true
   },
   "outputs": [],
   "source": [
    "\"\"\"\n",
    "DON'T MODIFY ANYTHING IN THIS CELL\n",
    "\"\"\"\n",
    "import tensorflow as tf\n",
    "import numpy as np\n",
    "import helper\n",
    "import problem_unittests as tests\n",
    "\n",
    "_, vocab_to_int, int_to_vocab, token_dict = helper.load_preprocess()\n",
    "seq_length, load_dir = helper.load_params()"
   ]
  },
  {
   "cell_type": "markdown",
   "metadata": {
    "deletable": true,
    "editable": true
   },
   "source": [
    "## Implement Generate Functions\n",
    "### Get Tensors\n",
    "Get tensors from `loaded_graph` using the function [`get_tensor_by_name()`](https://www.tensorflow.org/api_docs/python/tf/Graph#get_tensor_by_name).  Get the tensors using the following names:\n",
    "- \"input:0\"\n",
    "- \"initial_state:0\"\n",
    "- \"final_state:0\"\n",
    "- \"probs:0\"\n",
    "\n",
    "Return the tensors in the following tuple `(InputTensor, InitialStateTensor, FinalStateTensor, ProbsTensor)` "
   ]
  },
  {
   "cell_type": "code",
   "execution_count": 350,
   "metadata": {
    "collapsed": false,
    "deletable": true,
    "editable": true
   },
   "outputs": [
    {
     "name": "stdout",
     "output_type": "stream",
     "text": [
      "Tests Passed\n"
     ]
    }
   ],
   "source": [
    "def get_tensors(loaded_graph):\n",
    "    \"\"\"\n",
    "    Get input, initial state, final state, and probabilities tensor from <loaded_graph>\n",
    "    :param loaded_graph: TensorFlow graph loaded from file\n",
    "    :return: Tuple (InputTensor, InitialStateTensor, FinalStateTensor, ProbsTensor)\n",
    "    \"\"\"\n",
    "    # TODO: Implement Function\n",
    "    t1 = loaded_graph.get_tensor_by_name('input:0')\n",
    "    t2 = loaded_graph.get_tensor_by_name('initial_state:0')\n",
    "    t3 = loaded_graph.get_tensor_by_name('final_state:0')\n",
    "    t4 = loaded_graph.get_tensor_by_name('probs:0')\n",
    "    \n",
    "    return t1,t2,t3,t4\n",
    "\n",
    "\n",
    "\"\"\"\n",
    "DON'T MODIFY ANYTHING IN THIS CELL THAT IS BELOW THIS LINE\n",
    "\"\"\"\n",
    "tests.test_get_tensors(get_tensors)"
   ]
  },
  {
   "cell_type": "markdown",
   "metadata": {
    "deletable": true,
    "editable": true
   },
   "source": [
    "### Choose Word\n",
    "Implement the `pick_word()` function to select the next word using `probabilities`."
   ]
  },
  {
   "cell_type": "code",
   "execution_count": 351,
   "metadata": {
    "collapsed": false,
    "deletable": true,
    "editable": true
   },
   "outputs": [
    {
     "name": "stdout",
     "output_type": "stream",
     "text": [
      "Tests Passed\n"
     ]
    }
   ],
   "source": [
    "def pick_word(probabilities, int_to_vocab):\n",
    "    \"\"\"\n",
    "    Pick the next word in the generated text\n",
    "    :param probabilities: Probabilites of the next word\n",
    "    :param int_to_vocab: Dictionary of word ids as the keys and words as the values\n",
    "    :return: String of the predicted word\n",
    "    \"\"\"\n",
    "    max_val = max(probabilities)\n",
    "    max_idx = list(probabilities).index(max_val)\n",
    "    return int_to_vocab[max_idx]\n",
    "\n",
    "\n",
    "\"\"\"\n",
    "DON'T MODIFY ANYTHING IN THIS CELL THAT IS BELOW THIS LINE\n",
    "\"\"\"\n",
    "tests.test_pick_word(pick_word)"
   ]
  },
  {
   "cell_type": "markdown",
   "metadata": {
    "deletable": true,
    "editable": true
   },
   "source": [
    "## Generate TV Script\n",
    "This will generate the TV script for you.  Set `gen_length` to the length of TV script you want to generate."
   ]
  },
  {
   "cell_type": "code",
   "execution_count": 352,
   "metadata": {
    "collapsed": false,
    "deletable": true,
    "editable": true
   },
   "outputs": [
    {
     "name": "stdout",
     "output_type": "stream",
     "text": [
      "moe_szyslak:(to little man) come on, jer. open of them, when you gonna do with you and clean back to my temple of doom.\n",
      "moe_szyslak: sorry, homer. you said those thinking time you're gonna let ya when he even clean back.\n",
      "moe_szyslak:(to self, out out) oh my god! she got an informant wearing to me.\n",
      "moe_szyslak: hey, hey, hey, hey, hey! i know, i'll just walk on this town.(beat) your daughter friend is a good beer, moe.\n",
      "moe_szyslak: ah, i'm not looking.\n",
      "homer_simpson: all right, homer.\n",
      "homer_simpson: you know what you see, moe.\n",
      "moe_szyslak: ah, if i am not as the troll barney one still beat to see the beginning... uh, uh, uh, the evening is a thing moe, we've been blown up. but i'm not gonna have to do a beer!\n",
      "\n",
      "\n",
      "moe_szyslak:(to self, happily) i have hooked one /\".\"\n",
      "\n"
     ]
    }
   ],
   "source": [
    "gen_length = 200\n",
    "# homer_simpson, moe_szyslak, or Barney_Gumble\n",
    "prime_word = 'moe_szyslak'\n",
    "\n",
    "\"\"\"\n",
    "DON'T MODIFY ANYTHING IN THIS CELL THAT IS BELOW THIS LINE\n",
    "\"\"\"\n",
    "loaded_graph = tf.Graph()\n",
    "with tf.Session(graph=loaded_graph) as sess:\n",
    "    # Load saved model\n",
    "    loader = tf.train.import_meta_graph(load_dir + '.meta')\n",
    "    loader.restore(sess, load_dir)\n",
    "\n",
    "    # Get Tensors from loaded model\n",
    "    input_text, initial_state, final_state, probs = get_tensors(loaded_graph)\n",
    "\n",
    "    # Sentences generation setup\n",
    "    gen_sentences = [prime_word + ':']\n",
    "    prev_state = sess.run(initial_state, {input_text: np.array([[1]])})\n",
    "\n",
    "    # Generate sentences\n",
    "    for n in range(gen_length):\n",
    "        # Dynamic Input\n",
    "        dyn_input = [[vocab_to_int[word] for word in gen_sentences[-seq_length:]]]\n",
    "        dyn_seq_length = len(dyn_input[0])\n",
    "\n",
    "        # Get Prediction\n",
    "        probabilities, prev_state = sess.run(\n",
    "            [probs, final_state],\n",
    "            {input_text: dyn_input, initial_state: prev_state})\n",
    "        \n",
    "        pred_word = pick_word(probabilities[dyn_seq_length-1], int_to_vocab)\n",
    "\n",
    "        gen_sentences.append(pred_word)\n",
    "    \n",
    "    # Remove tokens\n",
    "    tv_script = ' '.join(gen_sentences)\n",
    "    for key, token in token_dict.items():\n",
    "        ending = ' ' if key in ['\\n', '(', '\"'] else ''\n",
    "        tv_script = tv_script.replace(' ' + token.lower(), key)\n",
    "    tv_script = tv_script.replace('\\n ', '\\n')\n",
    "    tv_script = tv_script.replace('( ', '(')\n",
    "        \n",
    "    print(tv_script)"
   ]
  },
  {
   "cell_type": "markdown",
   "metadata": {
    "deletable": true,
    "editable": true
   },
   "source": [
    "# The TV Script is Nonsensical\n",
    "It's ok if the TV script doesn't make any sense.  We trained on less than a megabyte of text.  In order to get good results, you'll have to use a smaller vocabulary or get more data.  Luckly there's more data!  As we mentioned in the begging of this project, this is a subset of [another dataset](https://www.kaggle.com/wcukierski/the-simpsons-by-the-data).  We didn't have you train on all the data, because that would take too long.  However, you are free to train your neural network on all the data.  After you complete the project, of course.\n",
    "# Submitting This Project\n",
    "When submitting this project, make sure to run all the cells before saving the notebook. Save the notebook file as \"dlnd_tv_script_generation.ipynb\" and save it as a HTML file under \"File\" -> \"Download as\". Include the \"helper.py\" and \"problem_unittests.py\" files in your submission."
   ]
  },
  {
   "cell_type": "code",
   "execution_count": null,
   "metadata": {
    "collapsed": true
   },
   "outputs": [],
   "source": []
  }
 ],
 "metadata": {
  "kernelspec": {
   "display_name": "Python 3",
   "language": "python",
   "name": "python3"
  },
  "language_info": {
   "codemirror_mode": {
    "name": "ipython",
    "version": 3
   },
   "file_extension": ".py",
   "mimetype": "text/x-python",
   "name": "python",
   "nbconvert_exporter": "python",
   "pygments_lexer": "ipython3",
   "version": "3.5.2"
  }
 },
 "nbformat": 4,
 "nbformat_minor": 0
}
